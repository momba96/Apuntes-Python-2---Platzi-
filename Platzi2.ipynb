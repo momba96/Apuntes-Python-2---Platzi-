{
 "cells": [
  {
   "cell_type": "code",
   "execution_count": 189,
   "id": "742b70ef",
   "metadata": {},
   "outputs": [],
   "source": [
    "import pandas as pd\n",
    "import matplotlib.pyplot as plt\n",
    "import numpy as np"
   ]
  },
  {
   "cell_type": "code",
   "execution_count": 176,
   "id": "415598fe",
   "metadata": {},
   "outputs": [],
   "source": [
    "df = pd.read_csv(\"world_population.csv\")\n",
    "df.set_index(\"Country/Territory\", inplace = True)\n"
   ]
  },
  {
   "cell_type": "code",
   "execution_count": 107,
   "id": "949b6652",
   "metadata": {},
   "outputs": [
    {
     "data": {
      "text/html": [
       "<div>\n",
       "<style scoped>\n",
       "    .dataframe tbody tr th:only-of-type {\n",
       "        vertical-align: middle;\n",
       "    }\n",
       "\n",
       "    .dataframe tbody tr th {\n",
       "        vertical-align: top;\n",
       "    }\n",
       "\n",
       "    .dataframe thead th {\n",
       "        text-align: right;\n",
       "    }\n",
       "</style>\n",
       "<table border=\"1\" class=\"dataframe\">\n",
       "  <thead>\n",
       "    <tr style=\"text-align: right;\">\n",
       "      <th></th>\n",
       "      <th>Rank</th>\n",
       "      <th>CCA3</th>\n",
       "      <th>Capital</th>\n",
       "      <th>Continent</th>\n",
       "      <th>2022 Population</th>\n",
       "      <th>2020 Population</th>\n",
       "      <th>2015 Population</th>\n",
       "      <th>2010 Population</th>\n",
       "      <th>2000 Population</th>\n",
       "      <th>1990 Population</th>\n",
       "      <th>1980 Population</th>\n",
       "      <th>1970 Population</th>\n",
       "      <th>Area (km²)</th>\n",
       "      <th>Density (per km²)</th>\n",
       "      <th>Growth Rate</th>\n",
       "      <th>World Population Percentage</th>\n",
       "    </tr>\n",
       "    <tr>\n",
       "      <th>Country/Territory</th>\n",
       "      <th></th>\n",
       "      <th></th>\n",
       "      <th></th>\n",
       "      <th></th>\n",
       "      <th></th>\n",
       "      <th></th>\n",
       "      <th></th>\n",
       "      <th></th>\n",
       "      <th></th>\n",
       "      <th></th>\n",
       "      <th></th>\n",
       "      <th></th>\n",
       "      <th></th>\n",
       "      <th></th>\n",
       "      <th></th>\n",
       "      <th></th>\n",
       "    </tr>\n",
       "  </thead>\n",
       "  <tbody>\n",
       "    <tr>\n",
       "      <th>Afghanistan</th>\n",
       "      <td>36</td>\n",
       "      <td>AFG</td>\n",
       "      <td>Kabul</td>\n",
       "      <td>Asia</td>\n",
       "      <td>41128771</td>\n",
       "      <td>38972230</td>\n",
       "      <td>33753499</td>\n",
       "      <td>28189672</td>\n",
       "      <td>19542982</td>\n",
       "      <td>10694796</td>\n",
       "      <td>12486631</td>\n",
       "      <td>10752971</td>\n",
       "      <td>652230</td>\n",
       "      <td>63.0587</td>\n",
       "      <td>1.0257</td>\n",
       "      <td>0.52</td>\n",
       "    </tr>\n",
       "    <tr>\n",
       "      <th>Albania</th>\n",
       "      <td>138</td>\n",
       "      <td>ALB</td>\n",
       "      <td>Tirana</td>\n",
       "      <td>Europe</td>\n",
       "      <td>2842321</td>\n",
       "      <td>2866849</td>\n",
       "      <td>2882481</td>\n",
       "      <td>2913399</td>\n",
       "      <td>3182021</td>\n",
       "      <td>3295066</td>\n",
       "      <td>2941651</td>\n",
       "      <td>2324731</td>\n",
       "      <td>28748</td>\n",
       "      <td>98.8702</td>\n",
       "      <td>0.9957</td>\n",
       "      <td>0.04</td>\n",
       "    </tr>\n",
       "    <tr>\n",
       "      <th>Algeria</th>\n",
       "      <td>34</td>\n",
       "      <td>DZA</td>\n",
       "      <td>Algiers</td>\n",
       "      <td>Africa</td>\n",
       "      <td>44903225</td>\n",
       "      <td>43451666</td>\n",
       "      <td>39543154</td>\n",
       "      <td>35856344</td>\n",
       "      <td>30774621</td>\n",
       "      <td>25518074</td>\n",
       "      <td>18739378</td>\n",
       "      <td>13795915</td>\n",
       "      <td>2381741</td>\n",
       "      <td>18.8531</td>\n",
       "      <td>1.0164</td>\n",
       "      <td>0.56</td>\n",
       "    </tr>\n",
       "    <tr>\n",
       "      <th>American Samoa</th>\n",
       "      <td>213</td>\n",
       "      <td>ASM</td>\n",
       "      <td>Pago Pago</td>\n",
       "      <td>Oceania</td>\n",
       "      <td>44273</td>\n",
       "      <td>46189</td>\n",
       "      <td>51368</td>\n",
       "      <td>54849</td>\n",
       "      <td>58230</td>\n",
       "      <td>47818</td>\n",
       "      <td>32886</td>\n",
       "      <td>27075</td>\n",
       "      <td>199</td>\n",
       "      <td>222.4774</td>\n",
       "      <td>0.9831</td>\n",
       "      <td>0.00</td>\n",
       "    </tr>\n",
       "    <tr>\n",
       "      <th>Andorra</th>\n",
       "      <td>203</td>\n",
       "      <td>AND</td>\n",
       "      <td>Andorra la Vella</td>\n",
       "      <td>Europe</td>\n",
       "      <td>79824</td>\n",
       "      <td>77700</td>\n",
       "      <td>71746</td>\n",
       "      <td>71519</td>\n",
       "      <td>66097</td>\n",
       "      <td>53569</td>\n",
       "      <td>35611</td>\n",
       "      <td>19860</td>\n",
       "      <td>468</td>\n",
       "      <td>170.5641</td>\n",
       "      <td>1.0100</td>\n",
       "      <td>0.00</td>\n",
       "    </tr>\n",
       "  </tbody>\n",
       "</table>\n",
       "</div>"
      ],
      "text/plain": [
       "                   Rank CCA3           Capital Continent  2022 Population  \\\n",
       "Country/Territory                                                           \n",
       "Afghanistan          36  AFG             Kabul      Asia         41128771   \n",
       "Albania             138  ALB            Tirana    Europe          2842321   \n",
       "Algeria              34  DZA           Algiers    Africa         44903225   \n",
       "American Samoa      213  ASM         Pago Pago   Oceania            44273   \n",
       "Andorra             203  AND  Andorra la Vella    Europe            79824   \n",
       "\n",
       "                   2020 Population  2015 Population  2010 Population  \\\n",
       "Country/Territory                                                      \n",
       "Afghanistan               38972230         33753499         28189672   \n",
       "Albania                    2866849          2882481          2913399   \n",
       "Algeria                   43451666         39543154         35856344   \n",
       "American Samoa               46189            51368            54849   \n",
       "Andorra                      77700            71746            71519   \n",
       "\n",
       "                   2000 Population  1990 Population  1980 Population  \\\n",
       "Country/Territory                                                      \n",
       "Afghanistan               19542982         10694796         12486631   \n",
       "Albania                    3182021          3295066          2941651   \n",
       "Algeria                   30774621         25518074         18739378   \n",
       "American Samoa               58230            47818            32886   \n",
       "Andorra                      66097            53569            35611   \n",
       "\n",
       "                   1970 Population  Area (km²)  Density (per km²)  \\\n",
       "Country/Territory                                                   \n",
       "Afghanistan               10752971      652230            63.0587   \n",
       "Albania                    2324731       28748            98.8702   \n",
       "Algeria                   13795915     2381741            18.8531   \n",
       "American Samoa               27075         199           222.4774   \n",
       "Andorra                      19860         468           170.5641   \n",
       "\n",
       "                   Growth Rate  World Population Percentage  \n",
       "Country/Territory                                            \n",
       "Afghanistan             1.0257                         0.52  \n",
       "Albania                 0.9957                         0.04  \n",
       "Algeria                 1.0164                         0.56  \n",
       "American Samoa          0.9831                         0.00  \n",
       "Andorra                 1.0100                         0.00  "
      ]
     },
     "execution_count": 107,
     "metadata": {},
     "output_type": "execute_result"
    }
   ],
   "source": [
    "df.head()"
   ]
  },
  {
   "cell_type": "code",
   "execution_count": 108,
   "id": "adacc3c7",
   "metadata": {},
   "outputs": [],
   "source": [
    "#escogemos las columnas, dado el index de country\n",
    "\n",
    "df = df.loc[:, ['2022 Population', '2020 Population', '2015 Population', '2010 Population', '2000 Population', '1990 Population', '1980 Population', '1970 Population']]"
   ]
  },
  {
   "cell_type": "code",
   "execution_count": 109,
   "id": "a61239a2",
   "metadata": {},
   "outputs": [
    {
     "name": "stdout",
     "output_type": "stream",
     "text": [
      "                   2022 Population  2020 Population  2015 Population  \\\n",
      "Country/Territory                                                      \n",
      "Afghanistan               41128771         38972230         33753499   \n",
      "Albania                    2842321          2866849          2882481   \n",
      "Algeria                   44903225         43451666         39543154   \n",
      "American Samoa               44273            46189            51368   \n",
      "Andorra                      79824            77700            71746   \n",
      "...                            ...              ...              ...   \n",
      "Wallis and Futuna            11572            11655            12182   \n",
      "Western Sahara              575986           556048           491824   \n",
      "Yemen                     33696614         32284046         28516545   \n",
      "Zambia                    20017675         18927715         16248230   \n",
      "Zimbabwe                  16320537         15669666         14154937   \n",
      "\n",
      "                   2010 Population  2000 Population  1990 Population  \\\n",
      "Country/Territory                                                      \n",
      "Afghanistan               28189672         19542982         10694796   \n",
      "Albania                    2913399          3182021          3295066   \n",
      "Algeria                   35856344         30774621         25518074   \n",
      "American Samoa               54849            58230            47818   \n",
      "Andorra                      71519            66097            53569   \n",
      "...                            ...              ...              ...   \n",
      "Wallis and Futuna            13142            14723            13454   \n",
      "Western Sahara              413296           270375           178529   \n",
      "Yemen                     24743946         18628700         13375121   \n",
      "Zambia                    13792086          9891136          7686401   \n",
      "Zimbabwe                  12839771         11834676         10113893   \n",
      "\n",
      "                   1980 Population  1970 Population  \n",
      "Country/Territory                                    \n",
      "Afghanistan               12486631         10752971  \n",
      "Albania                    2941651          2324731  \n",
      "Algeria                   18739378         13795915  \n",
      "American Samoa               32886            27075  \n",
      "Andorra                      35611            19860  \n",
      "...                            ...              ...  \n",
      "Wallis and Futuna            11315             9377  \n",
      "Western Sahara              116775            76371  \n",
      "Yemen                      9204938          6843607  \n",
      "Zambia                     5720438          4281671  \n",
      "Zimbabwe                   7049926          5202918  \n",
      "\n",
      "[234 rows x 8 columns]\n"
     ]
    }
   ],
   "source": [
    "print(df)"
   ]
  },
  {
   "cell_type": "code",
   "execution_count": 110,
   "id": "8d1392e0",
   "metadata": {},
   "outputs": [],
   "source": [
    "#despivotamos las columnas, convertimos a valores cada año para cada pais, mantenemos el index\n",
    "\n",
    "unpivot = pd.melt(df,value_vars = ['2022 Population', '2020 Population', '2015 Population', '2010 Population', '2000 Population', '1990 Population', '1980 Population', '1970 Population'], var_name = \"Año\", value_name = \"Population\", ignore_index = False)"
   ]
  },
  {
   "cell_type": "code",
   "execution_count": 111,
   "id": "38ca9ca3",
   "metadata": {},
   "outputs": [
    {
     "data": {
      "text/html": [
       "<div>\n",
       "<style scoped>\n",
       "    .dataframe tbody tr th:only-of-type {\n",
       "        vertical-align: middle;\n",
       "    }\n",
       "\n",
       "    .dataframe tbody tr th {\n",
       "        vertical-align: top;\n",
       "    }\n",
       "\n",
       "    .dataframe thead th {\n",
       "        text-align: right;\n",
       "    }\n",
       "</style>\n",
       "<table border=\"1\" class=\"dataframe\">\n",
       "  <thead>\n",
       "    <tr style=\"text-align: right;\">\n",
       "      <th></th>\n",
       "      <th>Año</th>\n",
       "      <th>Population</th>\n",
       "    </tr>\n",
       "    <tr>\n",
       "      <th>Country/Territory</th>\n",
       "      <th></th>\n",
       "      <th></th>\n",
       "    </tr>\n",
       "  </thead>\n",
       "  <tbody>\n",
       "    <tr>\n",
       "      <th>Afghanistan</th>\n",
       "      <td>2022 Population</td>\n",
       "      <td>41128771</td>\n",
       "    </tr>\n",
       "    <tr>\n",
       "      <th>Albania</th>\n",
       "      <td>2022 Population</td>\n",
       "      <td>2842321</td>\n",
       "    </tr>\n",
       "    <tr>\n",
       "      <th>Algeria</th>\n",
       "      <td>2022 Population</td>\n",
       "      <td>44903225</td>\n",
       "    </tr>\n",
       "    <tr>\n",
       "      <th>American Samoa</th>\n",
       "      <td>2022 Population</td>\n",
       "      <td>44273</td>\n",
       "    </tr>\n",
       "    <tr>\n",
       "      <th>Andorra</th>\n",
       "      <td>2022 Population</td>\n",
       "      <td>79824</td>\n",
       "    </tr>\n",
       "  </tbody>\n",
       "</table>\n",
       "</div>"
      ],
      "text/plain": [
       "                               Año  Population\n",
       "Country/Territory                             \n",
       "Afghanistan        2022 Population    41128771\n",
       "Albania            2022 Population     2842321\n",
       "Algeria            2022 Population    44903225\n",
       "American Samoa     2022 Population       44273\n",
       "Andorra            2022 Population       79824"
      ]
     },
     "execution_count": 111,
     "metadata": {},
     "output_type": "execute_result"
    }
   ],
   "source": [
    "#nuestro nuevo df es el despivotado\n",
    "\n",
    "df = unpivot\n",
    "df.head()"
   ]
  },
  {
   "cell_type": "markdown",
   "id": "30d8b23b",
   "metadata": {},
   "source": [
    "# Ahora procedemos a quitar Population de la columna año #"
   ]
  },
  {
   "cell_type": "code",
   "execution_count": 112,
   "id": "2d81688a",
   "metadata": {},
   "outputs": [
    {
     "name": "stdout",
     "output_type": "stream",
     "text": [
      "<class 'pandas.core.frame.DataFrame'>\n",
      "Index: 1872 entries, Afghanistan to Zimbabwe\n",
      "Data columns (total 2 columns):\n",
      " #   Column      Non-Null Count  Dtype \n",
      "---  ------      --------------  ----- \n",
      " 0   Año         1872 non-null   object\n",
      " 1   Population  1872 non-null   int64 \n",
      "dtypes: int64(1), object(1)\n",
      "memory usage: 43.9+ KB\n"
     ]
    }
   ],
   "source": [
    "df.info() #nos muestra la info de nuestro df "
   ]
  },
  {
   "cell_type": "code",
   "execution_count": 113,
   "id": "9b8df0ee",
   "metadata": {},
   "outputs": [
    {
     "data": {
      "text/plain": [
       "array(['2022 Population', '2020 Population', '2015 Population',\n",
       "       '2010 Population', '2000 Population', '1990 Population',\n",
       "       '1980 Population', '1970 Population'], dtype=object)"
      ]
     },
     "execution_count": 113,
     "metadata": {},
     "output_type": "execute_result"
    }
   ],
   "source": [
    "df[\"Año\"].unique() #solo es para ver los datos unicos"
   ]
  },
  {
   "cell_type": "code",
   "execution_count": 114,
   "id": "62247ae6",
   "metadata": {},
   "outputs": [
    {
     "data": {
      "text/html": [
       "<div>\n",
       "<style scoped>\n",
       "    .dataframe tbody tr th:only-of-type {\n",
       "        vertical-align: middle;\n",
       "    }\n",
       "\n",
       "    .dataframe tbody tr th {\n",
       "        vertical-align: top;\n",
       "    }\n",
       "\n",
       "    .dataframe thead th {\n",
       "        text-align: right;\n",
       "    }\n",
       "</style>\n",
       "<table border=\"1\" class=\"dataframe\">\n",
       "  <thead>\n",
       "    <tr style=\"text-align: right;\">\n",
       "      <th></th>\n",
       "      <th>Año</th>\n",
       "      <th>Population</th>\n",
       "    </tr>\n",
       "    <tr>\n",
       "      <th>Country/Territory</th>\n",
       "      <th></th>\n",
       "      <th></th>\n",
       "    </tr>\n",
       "  </thead>\n",
       "  <tbody>\n",
       "    <tr>\n",
       "      <th>Afghanistan</th>\n",
       "      <td>2022</td>\n",
       "      <td>41128771</td>\n",
       "    </tr>\n",
       "    <tr>\n",
       "      <th>Albania</th>\n",
       "      <td>2022</td>\n",
       "      <td>2842321</td>\n",
       "    </tr>\n",
       "    <tr>\n",
       "      <th>Algeria</th>\n",
       "      <td>2022</td>\n",
       "      <td>44903225</td>\n",
       "    </tr>\n",
       "    <tr>\n",
       "      <th>American Samoa</th>\n",
       "      <td>2022</td>\n",
       "      <td>44273</td>\n",
       "    </tr>\n",
       "    <tr>\n",
       "      <th>Andorra</th>\n",
       "      <td>2022</td>\n",
       "      <td>79824</td>\n",
       "    </tr>\n",
       "  </tbody>\n",
       "</table>\n",
       "</div>"
      ],
      "text/plain": [
       "                    Año  Population\n",
       "Country/Territory                  \n",
       "Afghanistan        2022    41128771\n",
       "Albania            2022     2842321\n",
       "Algeria            2022    44903225\n",
       "American Samoa     2022       44273\n",
       "Andorra            2022       79824"
      ]
     },
     "execution_count": 114,
     "metadata": {},
     "output_type": "execute_result"
    }
   ],
   "source": [
    "#extraemos las letras del campo año para dejar solo el numero\n",
    "\n",
    "df[\"Año\"] = df.Año.str.extract('(\\d+)') #\\d+ es una expresion regular para extraer datos numericos\n",
    "df[\"Año\"] = df[\"Año\"].astype(str).astype(int) #convertimos el extracto de objeto a numero\n",
    "df.head()  "
   ]
  },
  {
   "cell_type": "code",
   "execution_count": 115,
   "id": "4ac8398e",
   "metadata": {},
   "outputs": [
    {
     "data": {
      "text/html": [
       "<div>\n",
       "<style scoped>\n",
       "    .dataframe tbody tr th:only-of-type {\n",
       "        vertical-align: middle;\n",
       "    }\n",
       "\n",
       "    .dataframe tbody tr th {\n",
       "        vertical-align: top;\n",
       "    }\n",
       "\n",
       "    .dataframe thead th {\n",
       "        text-align: right;\n",
       "    }\n",
       "</style>\n",
       "<table border=\"1\" class=\"dataframe\">\n",
       "  <thead>\n",
       "    <tr style=\"text-align: right;\">\n",
       "      <th></th>\n",
       "      <th>Año</th>\n",
       "      <th>Population</th>\n",
       "    </tr>\n",
       "    <tr>\n",
       "      <th>Country/Territory</th>\n",
       "      <th></th>\n",
       "      <th></th>\n",
       "    </tr>\n",
       "  </thead>\n",
       "  <tbody>\n",
       "    <tr>\n",
       "      <th>Albania</th>\n",
       "      <td>2022</td>\n",
       "      <td>2842321</td>\n",
       "    </tr>\n",
       "    <tr>\n",
       "      <th>Albania</th>\n",
       "      <td>2020</td>\n",
       "      <td>2866849</td>\n",
       "    </tr>\n",
       "    <tr>\n",
       "      <th>Albania</th>\n",
       "      <td>2015</td>\n",
       "      <td>2882481</td>\n",
       "    </tr>\n",
       "    <tr>\n",
       "      <th>Albania</th>\n",
       "      <td>2010</td>\n",
       "      <td>2913399</td>\n",
       "    </tr>\n",
       "    <tr>\n",
       "      <th>Albania</th>\n",
       "      <td>2000</td>\n",
       "      <td>3182021</td>\n",
       "    </tr>\n",
       "    <tr>\n",
       "      <th>Albania</th>\n",
       "      <td>1990</td>\n",
       "      <td>3295066</td>\n",
       "    </tr>\n",
       "    <tr>\n",
       "      <th>Albania</th>\n",
       "      <td>1980</td>\n",
       "      <td>2941651</td>\n",
       "    </tr>\n",
       "    <tr>\n",
       "      <th>Albania</th>\n",
       "      <td>1970</td>\n",
       "      <td>2324731</td>\n",
       "    </tr>\n",
       "  </tbody>\n",
       "</table>\n",
       "</div>"
      ],
      "text/plain": [
       "                    Año  Population\n",
       "Country/Territory                  \n",
       "Albania            2022     2842321\n",
       "Albania            2020     2866849\n",
       "Albania            2015     2882481\n",
       "Albania            2010     2913399\n",
       "Albania            2000     3182021\n",
       "Albania            1990     3295066\n",
       "Albania            1980     2941651\n",
       "Albania            1970     2324731"
      ]
     },
     "execution_count": 115,
     "metadata": {},
     "output_type": "execute_result"
    }
   ],
   "source": [
    "df.sort_values(\"Año\") #ordenar valores en base al año (desc por defecto)\n",
    "df.loc[\"Albania\"]"
   ]
  },
  {
   "cell_type": "code",
   "execution_count": 116,
   "id": "fa736b2a",
   "metadata": {},
   "outputs": [
    {
     "name": "stdout",
     "output_type": "stream",
     "text": [
      "Country/Territory\n",
      "Albania      2842321\n",
      "Albania      2866849\n",
      "Albania      2882481\n",
      "Albania      2913399\n",
      "Albania      3182021\n",
      "Albania      3295066\n",
      "Albania      2941651\n",
      "Albania      2324731\n",
      "Colombia    51874024\n",
      "Colombia    50930662\n",
      "Colombia    47119728\n",
      "Colombia    44816108\n",
      "Colombia    39215135\n",
      "Colombia    32601393\n",
      "Colombia    26176195\n",
      "Colombia    20905254\n",
      "Name: Population, dtype: int64\n"
     ]
    }
   ],
   "source": [
    "al_col = df.loc[[\"Albania\", \"Colombia\"]] #creamos una variable con solo dos paises\n",
    "al_col = al_col.loc[:,\"Population\"] #creamos una variable tomando solo poblacion\n",
    "print(al_col)"
   ]
  },
  {
   "cell_type": "code",
   "execution_count": 117,
   "id": "b98cd427",
   "metadata": {},
   "outputs": [
    {
     "data": {
      "text/html": [
       "<div>\n",
       "<style scoped>\n",
       "    .dataframe tbody tr th:only-of-type {\n",
       "        vertical-align: middle;\n",
       "    }\n",
       "\n",
       "    .dataframe tbody tr th {\n",
       "        vertical-align: top;\n",
       "    }\n",
       "\n",
       "    .dataframe thead th {\n",
       "        text-align: right;\n",
       "    }\n",
       "</style>\n",
       "<table border=\"1\" class=\"dataframe\">\n",
       "  <thead>\n",
       "    <tr style=\"text-align: right;\">\n",
       "      <th></th>\n",
       "      <th>Año</th>\n",
       "      <th>Population</th>\n",
       "    </tr>\n",
       "  </thead>\n",
       "  <tbody>\n",
       "    <tr>\n",
       "      <th>count</th>\n",
       "      <td>1872.000000</td>\n",
       "      <td>1.872000e+03</td>\n",
       "    </tr>\n",
       "    <tr>\n",
       "      <th>mean</th>\n",
       "      <td>2000.875000</td>\n",
       "      <td>2.661274e+07</td>\n",
       "    </tr>\n",
       "    <tr>\n",
       "      <th>std</th>\n",
       "      <td>18.042541</td>\n",
       "      <td>1.133600e+08</td>\n",
       "    </tr>\n",
       "    <tr>\n",
       "      <th>min</th>\n",
       "      <td>1970.000000</td>\n",
       "      <td>5.100000e+02</td>\n",
       "    </tr>\n",
       "    <tr>\n",
       "      <th>25%</th>\n",
       "      <td>1987.500000</td>\n",
       "      <td>3.180410e+05</td>\n",
       "    </tr>\n",
       "    <tr>\n",
       "      <th>50%</th>\n",
       "      <td>2005.000000</td>\n",
       "      <td>4.225097e+06</td>\n",
       "    </tr>\n",
       "    <tr>\n",
       "      <th>75%</th>\n",
       "      <td>2016.250000</td>\n",
       "      <td>1.546753e+07</td>\n",
       "    </tr>\n",
       "    <tr>\n",
       "      <th>max</th>\n",
       "      <td>2022.000000</td>\n",
       "      <td>1.425887e+09</td>\n",
       "    </tr>\n",
       "  </tbody>\n",
       "</table>\n",
       "</div>"
      ],
      "text/plain": [
       "               Año    Population\n",
       "count  1872.000000  1.872000e+03\n",
       "mean   2000.875000  2.661274e+07\n",
       "std      18.042541  1.133600e+08\n",
       "min    1970.000000  5.100000e+02\n",
       "25%    1987.500000  3.180410e+05\n",
       "50%    2005.000000  4.225097e+06\n",
       "75%    2016.250000  1.546753e+07\n",
       "max    2022.000000  1.425887e+09"
      ]
     },
     "execution_count": 117,
     "metadata": {},
     "output_type": "execute_result"
    }
   ],
   "source": [
    "df.describe()"
   ]
  },
  {
   "cell_type": "markdown",
   "id": "0c7d3fb5",
   "metadata": {},
   "source": [
    "## Valor Maximo"
   ]
  },
  {
   "cell_type": "code",
   "execution_count": 118,
   "id": "b1227df6",
   "metadata": {},
   "outputs": [
    {
     "data": {
      "text/plain": [
       "Año           1970\n",
       "Population     510\n",
       "dtype: int64"
      ]
     },
     "execution_count": 118,
     "metadata": {},
     "output_type": "execute_result"
    }
   ],
   "source": [
    "df.min()"
   ]
  },
  {
   "cell_type": "markdown",
   "id": "e8f33224",
   "metadata": {},
   "source": [
    "### Matplot\n"
   ]
  },
  {
   "cell_type": "code",
   "execution_count": 119,
   "id": "386feda4",
   "metadata": {},
   "outputs": [
    {
     "data": {
      "text/plain": [
       "<AxesSubplot:xlabel='Año'>"
      ]
     },
     "execution_count": 119,
     "metadata": {},
     "output_type": "execute_result"
    },
    {
     "data": {
      "image/png": "[encoded data removed]",
      "text/plain": [
       "<Figure size 432x288 with 1 Axes>"
      ]
     },
     "metadata": {
      "needs_background": "light"
     },
     "output_type": "display_data"
    }
   ],
   "source": [
    "df.loc[\"Colombia\"].plot(x = \"Año\", y = \"Population\")"
   ]
  },
  {
   "cell_type": "code",
   "execution_count": 120,
   "id": "1ea0c8dc",
   "metadata": {},
   "outputs": [
    {
     "data": {
      "text/plain": [
       "Text(0.5, 1.0, 'Este es el titulo')"
      ]
     },
     "execution_count": 120,
     "metadata": {},
     "output_type": "execute_result"
    },
    {
     "data": {
      "image/png": "[encoded data removed]",
      "text/plain": [
       "<Figure size 432x288 with 1 Axes>"
      ]
     },
     "metadata": {
      "needs_background": "light"
     },
     "output_type": "display_data"
    }
   ],
   "source": [
    "df.loc[\"Colombia\"].plot(x = \"Año\", y = \"Population\")\n",
    "plt.ylabel(\"Poblacion total\") #nombre de eje y\n",
    "plt.title(\"Este es el titulo\") #nombre del titulo"
   ]
  },
  {
   "cell_type": "code",
   "execution_count": 121,
   "id": "931e8d3d",
   "metadata": {},
   "outputs": [
    {
     "name": "stdout",
     "output_type": "stream",
     "text": [
      "                   Population\n",
      "Country/Territory            \n",
      "Colombia             51874024\n",
      "Colombia             50930662\n",
      "Colombia             47119728\n",
      "Colombia             44816108\n",
      "Colombia             39215135\n",
      "Colombia             32601393\n",
      "Colombia             26176195\n",
      "Colombia             20905254\n"
     ]
    }
   ],
   "source": [
    "Col = df.loc[[\"Colombia\"],[\"Population\"]]\n",
    "print(Col)"
   ]
  },
  {
   "cell_type": "code",
   "execution_count": 122,
   "id": "24e4b74a",
   "metadata": {},
   "outputs": [
    {
     "data": {
      "text/plain": [
       "<Figure size 432x288 with 0 Axes>"
      ]
     },
     "metadata": {},
     "output_type": "display_data"
    },
    {
     "data": {
      "image/png": "[encoded data removed]",
      "text/plain": [
       "<Figure size 432x288 with 1 Axes>"
      ]
     },
     "metadata": {
      "needs_background": "light"
     },
     "output_type": "display_data"
    }
   ],
   "source": [
    "plt.figure()\n",
    "values = [[1, 2], [2, 5]]\n",
    "df2 = pd.DataFrame(values, columns=['Type A', 'Type B'], \n",
    "                   index=['Index 1', 'Index 2'])\n",
    "df2.plot(lw=2, colormap='jet', marker='.', markersize=10,\n",
    "         title='Video streaming dropout by category')\n",
    "plt.xlabel('xlabel')\n",
    "plt.ylabel('ylabel')\n",
    "plt.show()"
   ]
  },
  {
   "cell_type": "code",
   "execution_count": 123,
   "id": "c603827e",
   "metadata": {},
   "outputs": [
    {
     "data": {
      "image/png": "[encoded data removed]",
      "text/plain": [
       "<Figure size 432x288 with 1 Axes>"
      ]
     },
     "metadata": {
      "needs_background": "light"
     },
     "output_type": "display_data"
    }
   ],
   "source": [
    "df_col_ar = df.loc[[\"Colombia\", \"Argentina\"]]  #mi variable para comparar paises\n",
    "fig, ax = plt.subplots() #expresion comun \n",
    "\n",
    "for pais, datos in df_col_ar.groupby(\"Country/Territory\"):\n",
    "    ax.plot(datos[\"Año\"], datos[\"Population\"], label=pais)\n",
    "    \n",
    "ax.legend()\n",
    "ax.set_xlabel(\"Año\")\n",
    "ax.set_ylabel(\"Population\")\n",
    "plt.show()"
   ]
  },
  {
   "cell_type": "code",
   "execution_count": 124,
   "id": "12f89d1f",
   "metadata": {},
   "outputs": [
    {
     "data": {
      "image/png": "[encoded data removed]",
      "text/plain": [
       "<Figure size 432x288 with 1 Axes>"
      ]
     },
     "metadata": {
      "needs_background": "light"
     },
     "output_type": "display_data"
    }
   ],
   "source": [
    "df_col = df.loc[\"Colombia\"]\n",
    "df_arg = df.loc[\"Argentina\"]\n",
    "df_alb = df.loc[\"Albania\"]\n",
    "\n",
    "plt.plot(df_col[\"Año\"], df_col[\"Population\"], label = \"Colombia\") #se elige el eje x & y dado el dataframe\n",
    "plt.plot(df_arg[\"Año\"], df_arg[\"Population\"], label = \"Argentina\")\n",
    "plt.plot(df_alb[\"Año\"], df_alb[\"Population\"], label = \"Albania\")\n",
    "\n",
    "#plt.xlabel(\"Año\")\n",
    "#plt.ylabel(\"Poblacion\")\n",
    "#plt.title(\"Mi primera grafica gracias GPT\")\n",
    "\n",
    "plt.legend()\n",
    "plt.show()"
   ]
  },
  {
   "cell_type": "markdown",
   "id": "fcfac40f",
   "metadata": {},
   "source": [
    "# # Grafico de barras"
   ]
  },
  {
   "cell_type": "code",
   "execution_count": 125,
   "id": "c158169a",
   "metadata": {},
   "outputs": [
    {
     "name": "stdout",
     "output_type": "stream",
     "text": [
      "Digite el pais: Colombia\n"
     ]
    },
    {
     "data": {
      "image/png": "[encoded data removed]",
      "text/plain": [
       "<Figure size 432x288 with 1 Axes>"
      ]
     },
     "metadata": {
      "needs_background": "light"
     },
     "output_type": "display_data"
    }
   ],
   "source": [
    "df[\"Año\"] = df[\"Año\"].astype(str) #convertimos a str para que distribuya x de manera homogenea\n",
    "pais = df.loc[input(\"Digite el pais: \")] #para elegir el pais (en realidad es crear un nuevo df)\n",
    "y = pais[\"Population\"]\n",
    "x = pais[\"Año\"]\n",
    "\n",
    "plt.bar(x,y, color = \"hotpink\", width = bar)\n",
    "ax.legend(loc = \"upper right\", fontsize = 14)\n",
    "\n",
    "plt.show()"
   ]
  },
  {
   "cell_type": "markdown",
   "id": "3047712b",
   "metadata": {},
   "source": [
    "# #Ahora un grafico de Pychart con otra columna, acá se resumirá todo el proceso anterior en el que hice otras cosas por hacer"
   ]
  },
  {
   "cell_type": "code",
   "execution_count": 223,
   "id": "a0931b18",
   "metadata": {},
   "outputs": [],
   "source": [
    "df2 = pd.read_csv(\"world_population.csv\")\n",
    "df2 = df2.to_dict(orient = 'records')  #convirtiendo los datos a diccionario\n",
    "df2 = list(filter(lambda x: x[\"Continent\"] == \"South America\", df2)) #filtrando por un continente"
   ]
  },
  {
   "cell_type": "code",
   "execution_count": 224,
   "id": "042cd2d8",
   "metadata": {},
   "outputs": [],
   "source": [
    "paises = list(map(lambda x: x[\"Country/Territory\"], df2))\n",
    "percentages = list(map(lambda x: x[\"World Population Percentage\"], df2))"
   ]
  },
  {
   "cell_type": "code",
   "execution_count": 225,
   "id": "9b7eb044",
   "metadata": {},
   "outputs": [
    {
     "data": {
      "image/png": "[encoded data removed]",
      "text/plain": [
       "<Figure size 432x288 with 1 Axes>"
      ]
     },
     "metadata": {},
     "output_type": "display_data"
    }
   ],
   "source": [
    "plt.pie(percentages, labels = paises)\n",
    "plt.show()"
   ]
  },
  {
   "cell_type": "code",
   "execution_count": null,
   "id": "bc589271",
   "metadata": {},
   "outputs": [],
   "source": []
  }
 ],
 "metadata": {
  "kernelspec": {
   "display_name": "Python 3 (ipykernel)",
   "language": "python",
   "name": "python3"
  },
  "language_info": {
   "codemirror_mode": {
    "name": "ipython",
    "version": 3
   },
   "file_extension": ".py",
   "mimetype": "text/x-python",
   "name": "python",
   "nbconvert_exporter": "python",
   "pygments_lexer": "ipython3",
   "version": "3.9.12"
  }
 },
 "nbformat": 4,
 "nbformat_minor": 5
}
